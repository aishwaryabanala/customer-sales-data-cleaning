# Data Cleaning Notebook

import pandas as pd
import numpy as np

# Load dataset
df = pd.read_csv('../data/raw/customer_sales_raw.csv')

# Step 1: Check for nulls
df.isnull().sum()

# Step 2: Drop duplicates
df = df.drop_duplicates()

# Step 3: Handle missing values
df['product'] = df['product'].fillna('Unknown')
df['quantity'] = pd.to_numeric(df['quantity'], errors='coerce').fillna(1)
df['price'] = pd.to_numeric(df['price'], errors='coerce').fillna(df['price'].mean())
df['customer_id'] = df['customer_id'].fillna(0).astype(int)

# Step 4: Convert date formats
df['date'] = pd.to_datetime(df['date'], errors='coerce')

# Save cleaned data
df.to_csv('../data/cleaned/customer_sales_cleaned.csv', index=False)

